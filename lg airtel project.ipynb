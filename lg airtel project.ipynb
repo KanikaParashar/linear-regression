{
 "cells": [
  {
   "cell_type": "code",
   "execution_count": 74,
   "metadata": {},
   "outputs": [],
   "source": [
    "import numpy as np \n",
    "import pandas as pd \n",
    "import matplotlib.pyplot as plt\n",
    "from sklearn.model_selection import train_test_split\n",
    "from sklearn.linear_model import LinearRegression"
   ]
  },
  {
   "cell_type": "code",
   "execution_count": 75,
   "metadata": {},
   "outputs": [
    {
     "data": {
      "text/plain": [
       "Index(['language_name', 'genre', 'service', 'country', 'mobile_operator',\n",
       "       'usage_category', 'number_of_units', 'duration'],\n",
       "      dtype='object')"
      ]
     },
     "execution_count": 75,
     "metadata": {},
     "output_type": "execute_result"
    }
   ],
   "source": [
    "df = pd.read_csv(\"data.csv\")\n",
    "df.columns"
   ]
  },
  {
   "cell_type": "code",
   "execution_count": 76,
   "metadata": {},
   "outputs": [],
   "source": [
    "x = df[\"number_of_units\"]\n",
    "y = df['duration']"
   ]
  },
  {
   "cell_type": "code",
   "execution_count": 77,
   "metadata": {},
   "outputs": [],
   "source": [
    "xtrain,xtest,ytrain,ytest = train_test_split(x,y,test_size = 1/3,random_state = 0)"
   ]
  },
  {
   "cell_type": "code",
   "execution_count": 78,
   "metadata": {},
   "outputs": [
    {
     "name": "stdout",
     "output_type": "stream",
     "text": [
      "[   28    64   275     7   106   151    56     2    12     4     5     8\n",
      "  3174     8    23   148  3872   218     6    18     1   365    34    17\n",
      "     1   793    61    22   208    16     2     6    56    74     3     1\n",
      "    18     7     8    11    51   469     6    25     2    62     2  1891\n",
      "   199   329     4     2   729    41    42    16   496     1    22   232\n",
      "   112     3     1     7   118     5   221   902    11    14     2     1\n",
      "     1   498     2   582   531    12     6    18     1     3   171     3\n",
      " 13588     4     2     1    33    30     1   266 59282 12840     6    10\n",
      "     1     1     1  2960     5    24     2    19    18     7     2     2\n",
      "  1753    55     7     1     3    30     1     8    98     1   208     3\n",
      "    67    66     3     4  4587    11     3     1     4  1567     5    16\n",
      "     9   192   157    11     1   152     3     2     3     3 13766]\n",
      "92       1866\n",
      "19       3257\n",
      "161      7690\n",
      "104        61\n",
      "54       2870\n",
      "        ...  \n",
      "67         11\n",
      "192       417\n",
      "117       662\n",
      "47        195\n",
      "172    330384\n",
      "Name: duration, Length: 143, dtype: int64\n"
     ]
    }
   ],
   "source": [
    "xtrain = np.array(xtrain)\n",
    "print(xtrain)\n",
    "print(ytrain)"
   ]
  },
  {
   "cell_type": "code",
   "execution_count": 85,
   "metadata": {},
   "outputs": [
    {
     "data": {
      "text/plain": [
       "array([[   2],\n",
       "       [   2],\n",
       "       [ 335],\n",
       "       [  73],\n",
       "       [  22],\n",
       "       [  13],\n",
       "       [  24],\n",
       "       [  32],\n",
       "       [ 144],\n",
       "       [  38],\n",
       "       [   3],\n",
       "       [   7],\n",
       "       [ 501],\n",
       "       [  32],\n",
       "       [ 182],\n",
       "       [   2],\n",
       "       [ 329],\n",
       "       [ 665],\n",
       "       [   1],\n",
       "       [   2],\n",
       "       [   5],\n",
       "       [   5],\n",
       "       [   1],\n",
       "       [   1],\n",
       "       [4513],\n",
       "       [ 620],\n",
       "       [  14],\n",
       "       [2551],\n",
       "       [   2],\n",
       "       [   3],\n",
       "       [ 199],\n",
       "       [  10],\n",
       "       [   2],\n",
       "       [   3],\n",
       "       [ 871],\n",
       "       [   1],\n",
       "       [  57],\n",
       "       [   4],\n",
       "       [ 920],\n",
       "       [   1],\n",
       "       [   4],\n",
       "       [   9],\n",
       "       [  18],\n",
       "       [1548],\n",
       "       [  63],\n",
       "       [   1],\n",
       "       [2420],\n",
       "       [   8],\n",
       "       [  16],\n",
       "       [1276],\n",
       "       [   3],\n",
       "       [   1],\n",
       "       [   1],\n",
       "       [   8],\n",
       "       [   5],\n",
       "       [   1],\n",
       "       [   6],\n",
       "       [7953],\n",
       "       [  11],\n",
       "       [ 412],\n",
       "       [  46],\n",
       "       [1696],\n",
       "       [ 206],\n",
       "       [ 209],\n",
       "       [  35],\n",
       "       [   2],\n",
       "       [  86],\n",
       "       [  29],\n",
       "       [ 422],\n",
       "       [  13],\n",
       "       [  96],\n",
       "       [   1]], dtype=int64)"
      ]
     },
     "execution_count": 85,
     "metadata": {},
     "output_type": "execute_result"
    }
   ],
   "source": [
    "xtrain =xtrain.reshape(-1,1)\n",
    "ytrain = np.array(ytrain)\n",
    "ytrain=ytrain.reshape(-1,1)\n",
    "xtest = np.array(xtest).reshape(-1,1)\n",
    "xtest"
   ]
  },
  {
   "cell_type": "code",
   "execution_count": 80,
   "metadata": {},
   "outputs": [
    {
     "data": {
      "text/plain": [
       "LinearRegression()"
      ]
     },
     "execution_count": 80,
     "metadata": {},
     "output_type": "execute_result"
    }
   ],
   "source": [
    "lg = LinearRegression()\n",
    "lg.fit(xtrain,ytrain)"
   ]
  },
  {
   "cell_type": "code",
   "execution_count": 86,
   "metadata": {},
   "outputs": [
    {
     "data": {
      "text/plain": [
       "[<matplotlib.lines.Line2D at 0x21175647940>]"
      ]
     },
     "execution_count": 86,
     "metadata": {},
     "output_type": "execute_result"
    },
    {
     "data": {
      "image/png": "[encoded data removed]",
      "text/plain": [
       "<Figure size 432x288 with 1 Axes>"
      ]
     },
     "metadata": {
      "needs_background": "light"
     },
     "output_type": "display_data"
    }
   ],
   "source": [
    "y_p = lg.predict(xtest)\n",
    "plt.scatter(xtrain,ytrain,color='blue')\n",
    "plt.plot(xtrain,lg.predict(xtrain),color ='red')\n",
    "\n"
   ]
  },
  {
   "cell_type": "code",
   "execution_count": 88,
   "metadata": {},
   "outputs": [
    {
     "data": {
      "text/plain": [
       "[<matplotlib.lines.Line2D at 0x21175756730>]"
      ]
     },
     "execution_count": 88,
     "metadata": {},
     "output_type": "execute_result"
    },
    {
     "data": {
      "image/png": "[encoded data removed]",
      "text/plain": [
       "<Figure size 432x288 with 1 Axes>"
      ]
     },
     "metadata": {
      "needs_background": "light"
     },
     "output_type": "display_data"
    }
   ],
   "source": [
    "plt.scatter(xtest,ytest,color='blue')\n",
    "plt.plot(xtrain,lg.predict(xtrain),color ='red')\n"
   ]
  },
  {
   "cell_type": "code",
   "execution_count": null,
   "metadata": {},
   "outputs": [],
   "source": []
  }
 ],
 "metadata": {
  "kernelspec": {
   "display_name": "Python 3",
   "language": "python",
   "name": "python3"
  },
  "language_info": {
   "codemirror_mode": {
    "name": "ipython",
    "version": 3
   },
   "file_extension": ".py",
   "mimetype": "text/x-python",
   "name": "python",
   "nbconvert_exporter": "python",
   "pygments_lexer": "ipython3",
   "version": "3.8.2"
  }
 },
 "nbformat": 4,
 "nbformat_minor": 4
}
